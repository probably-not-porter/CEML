{
 "cells": [
  {
   "cell_type": "code",
   "execution_count": 1,
   "metadata": {},
   "outputs": [],
   "source": [
    "# ---------------------------- IMPORTS ----------------------------\n",
    "\n",
    "%reload_ext autoreload\n",
    "%autoreload 2\n",
    "import argparse, glob, cv2, time, os, sys, shutil\n",
    "\n",
    "from PIL import Image\n",
    "from fastai.vision import *\n",
    "from matplotlib import pyplot as plt\n",
    "import numpy as np\n",
    "from scipy import ndimage as ndi\n",
    "from IPython.display import clear_output\n",
    "from datetime import datetime\n",
    "\n",
    "# --- from official code ---\n",
    "from dataglob import DataGlob"
   ]
  },
  {
   "cell_type": "code",
   "execution_count": 2,
   "metadata": {},
   "outputs": [
    {
     "name": "stdout",
     "output_type": "stream",
     "text": [
      "GLOB CONFIG: \n",
      "  Canny Tight: False\n",
      "  Canny Auto: False\n",
      "  Canny Wide: False\n",
      "  Laplacian: False\n",
      "  Sobel X: False\n",
      "  Sobel Y: False\n",
      "  Prewitt: False\n",
      "GLOB CONFIG: \n",
      "  Canny Tight: True\n",
      "  Canny Auto: True\n",
      "  Canny Wide: True\n",
      "  Laplacian: False\n",
      "  Sobel X: False\n",
      "  Sobel Y: False\n",
      "  Prewitt: False\n"
     ]
    }
   ],
   "source": [
    "glob1 = DataGlob(os.getcwd() + \"/training/plant-id\",os.getcwd() +\"/out\")\n",
    "glob1.print_configuration()\n",
    "glob1.set_configuration(\"canny_auto\", True)\n",
    "glob1.set_configuration(\"canny_wide\", True)\n",
    "glob1.set_configuration(\"canny_tight\", True)\n",
    "glob1.print_configuration()"
   ]
  },
  {
   "cell_type": "code",
   "execution_count": null,
   "metadata": {},
   "outputs": [],
   "source": []
  }
 ],
 "metadata": {
  "kernelspec": {
   "display_name": "Python 3.7.5 64-bit",
   "language": "python",
   "name": "python37564bit67e9689113b54fe08a64600d6234199b"
  },
  "language_info": {
   "codemirror_mode": {
    "name": "ipython",
    "version": 3
   },
   "file_extension": ".py",
   "mimetype": "text/x-python",
   "name": "python",
   "nbconvert_exporter": "python",
   "pygments_lexer": "ipython3",
   "version": "3.7.5"
  }
 },
 "nbformat": 4,
 "nbformat_minor": 4
}
